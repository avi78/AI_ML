{
  "nbformat": 4,
  "nbformat_minor": 0,
  "metadata": {
    "colab": {
      "provenance": [],
      "include_colab_link": true
    },
    "kernelspec": {
      "name": "python3",
      "display_name": "Python 3"
    }
  },
  "cells": [
    {
      "cell_type": "markdown",
      "metadata": {
        "id": "view-in-github",
        "colab_type": "text"
      },
      "source": [
        "<a href=\"https://colab.research.google.com/github/avi78/AI_ML/blob/main/Data_Preprocessing_Tools_Dataset_1NT21CS024.ipynb\" target=\"_parent\"><img src=\"https://colab.research.google.com/assets/colab-badge.svg\" alt=\"Open In Colab\"/></a>"
      ]
    },
    {
      "cell_type": "markdown",
      "metadata": {
        "id": "37puETfgRzzg"
      },
      "source": [
        "# Data Preprocessing Tools"
      ]
    },
    {
      "cell_type": "markdown",
      "metadata": {
        "id": "EoRP98MpR-qj"
      },
      "source": [
        "## Importing the libraries"
      ]
    },
    {
      "cell_type": "code",
      "metadata": {
        "id": "N-qiINBQSK2g"
      },
      "source": [
        "import numpy as np\n",
        "import matplotlib.pyplot as plt\n",
        "import pandas as pd"
      ],
      "execution_count": 1,
      "outputs": []
    },
    {
      "cell_type": "markdown",
      "metadata": {
        "id": "RopL7tUZSQkT"
      },
      "source": [
        "## Importing the dataset"
      ]
    },
    {
      "cell_type": "code",
      "metadata": {
        "id": "WwEPNDWySTKm"
      },
      "source": [
        "dataset = pd.read_csv('Data_set.csv')\n",
        "X = dataset.iloc[:, :-1].values\n",
        "y = dataset.iloc[:, -1].values"
      ],
      "execution_count": 2,
      "outputs": []
    },
    {
      "cell_type": "code",
      "metadata": {
        "id": "hCsz2yCebe1R",
        "colab": {
          "base_uri": "https://localhost:8080/"
        },
        "outputId": "0758bb6b-b332-41e6-fb2e-56a372f5b07c"
      },
      "source": [
        "print(X)"
      ],
      "execution_count": 3,
      "outputs": [
        {
          "output_type": "stream",
          "name": "stdout",
          "text": [
            "[['Korea' 31.0 72000.0]\n",
            " ['India' 23.0 48000.0]\n",
            " ['Germany' 43.0 54000.0]\n",
            " ['Spain' 29.0 61000.0]\n",
            " ['Spain' 51.0 61000.0]\n",
            " ['Germany' 40.0 nan]\n",
            " ['Spain' nan 52000.0]\n",
            " ['France' 25.0 79000.0]\n",
            " ['Germany' 53.0 83000.0]\n",
            " ['France' 42.0 67000.0]\n",
            " ['France' 39.0 61000.0]\n",
            " ['Spain' nan 61000.0]\n",
            " ['Spain' 51.0 nan]\n",
            " ['Spain' 54.0 nan]\n",
            " ['Germany' 30.0 83000.0]\n",
            " ['India' 44.0 48000.0]\n",
            " ['Germany' 48.0 54000.0]\n",
            " ['Germany' 41.0 55000.0]\n",
            " ['India' 35.0 48000.0]]\n"
          ]
        }
      ]
    },
    {
      "cell_type": "code",
      "metadata": {
        "id": "eYrOQ43XcJR3",
        "colab": {
          "base_uri": "https://localhost:8080/"
        },
        "outputId": "93966ebf-84c5-4b84-8bdd-b09451894136"
      },
      "source": [
        "print(y)"
      ],
      "execution_count": 4,
      "outputs": [
        {
          "output_type": "stream",
          "name": "stdout",
          "text": [
            "['Yes' 'Yes' 'Yes' 'Yes' 'No' 'No' 'No' 'Yes' 'No' 'No' 'Yes' 'No' 'No'\n",
            " 'Yes' 'No' 'Yes' 'Yes' 'Yes' 'Yes']\n"
          ]
        }
      ]
    },
    {
      "cell_type": "markdown",
      "metadata": {
        "id": "nhfKXNxlSabC"
      },
      "source": [
        "## Taking care of missing data"
      ]
    },
    {
      "cell_type": "code",
      "metadata": {
        "id": "c93k7ipkSexq"
      },
      "source": [
        "from sklearn.impute import SimpleImputer\n",
        "imputer = SimpleImputer(missing_values=np.nan, strategy='mean')\n",
        "imputer.fit(X[:, 1:3])\n",
        "X[:, 1:3] = imputer.transform(X[:, 1:3])"
      ],
      "execution_count": 5,
      "outputs": []
    },
    {
      "cell_type": "code",
      "metadata": {
        "id": "3UgLdMS_bjq_",
        "colab": {
          "base_uri": "https://localhost:8080/"
        },
        "outputId": "d557bfa6-6c06-45de-9c57-e56b98002d6c"
      },
      "source": [
        "print(X)"
      ],
      "execution_count": 6,
      "outputs": [
        {
          "output_type": "stream",
          "name": "stdout",
          "text": [
            "[['Korea' 31.0 72000.0]\n",
            " ['India' 23.0 48000.0]\n",
            " ['Germany' 43.0 54000.0]\n",
            " ['Spain' 29.0 61000.0]\n",
            " ['Spain' 51.0 61000.0]\n",
            " ['Germany' 40.0 61687.5]\n",
            " ['Spain' 39.94117647058823 52000.0]\n",
            " ['France' 25.0 79000.0]\n",
            " ['Germany' 53.0 83000.0]\n",
            " ['France' 42.0 67000.0]\n",
            " ['France' 39.0 61000.0]\n",
            " ['Spain' 39.94117647058823 61000.0]\n",
            " ['Spain' 51.0 61687.5]\n",
            " ['Spain' 54.0 61687.5]\n",
            " ['Germany' 30.0 83000.0]\n",
            " ['India' 44.0 48000.0]\n",
            " ['Germany' 48.0 54000.0]\n",
            " ['Germany' 41.0 55000.0]\n",
            " ['India' 35.0 48000.0]]\n"
          ]
        }
      ]
    },
    {
      "cell_type": "markdown",
      "metadata": {
        "id": "CriG6VzVSjcK"
      },
      "source": [
        "## Encoding categorical data"
      ]
    },
    {
      "cell_type": "markdown",
      "metadata": {
        "id": "AhSpdQWeSsFh"
      },
      "source": [
        "### Encoding the Independent Variable"
      ]
    },
    {
      "cell_type": "code",
      "metadata": {
        "id": "5hwuVddlSwVi"
      },
      "source": [
        "from sklearn.compose import ColumnTransformer\n",
        "from sklearn.preprocessing import OneHotEncoder\n",
        "ct = ColumnTransformer(transformers=[('encoder', OneHotEncoder(), [0])], remainder='passthrough')\n",
        "X = np.array(ct.fit_transform(X))"
      ],
      "execution_count": 7,
      "outputs": []
    },
    {
      "cell_type": "code",
      "metadata": {
        "id": "f7QspewyeBfx",
        "colab": {
          "base_uri": "https://localhost:8080/"
        },
        "outputId": "6284097d-b164-4192-aae8-e0a3ba3c940a"
      },
      "source": [
        "print(X)"
      ],
      "execution_count": 8,
      "outputs": [
        {
          "output_type": "stream",
          "name": "stdout",
          "text": [
            "[[0.0 0.0 0.0 1.0 0.0 31.0 72000.0]\n",
            " [0.0 0.0 1.0 0.0 0.0 23.0 48000.0]\n",
            " [0.0 1.0 0.0 0.0 0.0 43.0 54000.0]\n",
            " [0.0 0.0 0.0 0.0 1.0 29.0 61000.0]\n",
            " [0.0 0.0 0.0 0.0 1.0 51.0 61000.0]\n",
            " [0.0 1.0 0.0 0.0 0.0 40.0 61687.5]\n",
            " [0.0 0.0 0.0 0.0 1.0 39.94117647058823 52000.0]\n",
            " [1.0 0.0 0.0 0.0 0.0 25.0 79000.0]\n",
            " [0.0 1.0 0.0 0.0 0.0 53.0 83000.0]\n",
            " [1.0 0.0 0.0 0.0 0.0 42.0 67000.0]\n",
            " [1.0 0.0 0.0 0.0 0.0 39.0 61000.0]\n",
            " [0.0 0.0 0.0 0.0 1.0 39.94117647058823 61000.0]\n",
            " [0.0 0.0 0.0 0.0 1.0 51.0 61687.5]\n",
            " [0.0 0.0 0.0 0.0 1.0 54.0 61687.5]\n",
            " [0.0 1.0 0.0 0.0 0.0 30.0 83000.0]\n",
            " [0.0 0.0 1.0 0.0 0.0 44.0 48000.0]\n",
            " [0.0 1.0 0.0 0.0 0.0 48.0 54000.0]\n",
            " [0.0 1.0 0.0 0.0 0.0 41.0 55000.0]\n",
            " [0.0 0.0 1.0 0.0 0.0 35.0 48000.0]]\n"
          ]
        }
      ]
    },
    {
      "cell_type": "markdown",
      "metadata": {
        "id": "DXh8oVSITIc6"
      },
      "source": [
        "### Encoding the Dependent Variable"
      ]
    },
    {
      "cell_type": "code",
      "metadata": {
        "id": "XgHCShVyTOYY"
      },
      "source": [
        "from sklearn.preprocessing import LabelEncoder\n",
        "le = LabelEncoder()\n",
        "y = le.fit_transform(y)"
      ],
      "execution_count": 9,
      "outputs": []
    },
    {
      "cell_type": "code",
      "metadata": {
        "id": "FyhY8-gPpFCa",
        "colab": {
          "base_uri": "https://localhost:8080/"
        },
        "outputId": "8d5eea37-8a09-427d-8d9f-7f527647ee78"
      },
      "source": [
        "print(y)"
      ],
      "execution_count": 10,
      "outputs": [
        {
          "output_type": "stream",
          "name": "stdout",
          "text": [
            "[1 1 1 1 0 0 0 1 0 0 1 0 0 1 0 1 1 1 1]\n"
          ]
        }
      ]
    },
    {
      "cell_type": "markdown",
      "metadata": {
        "id": "qb_vcgm3qZKW"
      },
      "source": [
        "## Splitting the dataset into the Training set and Test set"
      ]
    },
    {
      "cell_type": "code",
      "metadata": {
        "id": "pXgA6CzlqbCl"
      },
      "source": [
        "from sklearn.model_selection import train_test_split\n",
        "X_train, X_test, y_train, y_test = train_test_split(X, y, test_size = 0.2, random_state = 1)"
      ],
      "execution_count": 11,
      "outputs": []
    },
    {
      "cell_type": "code",
      "metadata": {
        "id": "GuwQhFdKrYTM",
        "colab": {
          "base_uri": "https://localhost:8080/"
        },
        "outputId": "679091a9-b4b5-4f2e-adc3-680b1b54694b"
      },
      "source": [
        "print(X_train)"
      ],
      "execution_count": 12,
      "outputs": [
        {
          "output_type": "stream",
          "name": "stdout",
          "text": [
            "[[0.0 1.0 0.0 0.0 0.0 43.0 54000.0]\n",
            " [0.0 1.0 0.0 0.0 0.0 30.0 83000.0]\n",
            " [0.0 0.0 0.0 0.0 1.0 51.0 61000.0]\n",
            " [0.0 1.0 0.0 0.0 0.0 48.0 54000.0]\n",
            " [1.0 0.0 0.0 0.0 0.0 25.0 79000.0]\n",
            " [0.0 0.0 1.0 0.0 0.0 23.0 48000.0]\n",
            " [0.0 0.0 0.0 0.0 1.0 54.0 61687.5]\n",
            " [0.0 0.0 0.0 1.0 0.0 31.0 72000.0]\n",
            " [0.0 0.0 1.0 0.0 0.0 35.0 48000.0]\n",
            " [0.0 1.0 0.0 0.0 0.0 41.0 55000.0]\n",
            " [1.0 0.0 0.0 0.0 0.0 42.0 67000.0]\n",
            " [0.0 1.0 0.0 0.0 0.0 53.0 83000.0]\n",
            " [0.0 0.0 0.0 0.0 1.0 51.0 61687.5]\n",
            " [0.0 0.0 0.0 0.0 1.0 39.94117647058823 61000.0]\n",
            " [0.0 1.0 0.0 0.0 0.0 40.0 61687.5]]\n"
          ]
        }
      ]
    },
    {
      "cell_type": "code",
      "metadata": {
        "id": "TUrX_Tvcrbi4",
        "colab": {
          "base_uri": "https://localhost:8080/"
        },
        "outputId": "1fa819be-c9ca-43f4-d400-91b76a08851b"
      },
      "source": [
        "print(X_test)"
      ],
      "execution_count": 13,
      "outputs": [
        {
          "output_type": "stream",
          "name": "stdout",
          "text": [
            "[[0.0 0.0 0.0 0.0 1.0 29.0 61000.0]\n",
            " [0.0 0.0 1.0 0.0 0.0 44.0 48000.0]\n",
            " [0.0 0.0 0.0 0.0 1.0 39.94117647058823 52000.0]\n",
            " [1.0 0.0 0.0 0.0 0.0 39.0 61000.0]]\n"
          ]
        }
      ]
    },
    {
      "cell_type": "code",
      "metadata": {
        "id": "pSMHiIsWreQY",
        "colab": {
          "base_uri": "https://localhost:8080/"
        },
        "outputId": "7ef62ee9-c8cd-4938-8432-f0c95aeff577"
      },
      "source": [
        "print(y_train)"
      ],
      "execution_count": 14,
      "outputs": [
        {
          "output_type": "stream",
          "name": "stdout",
          "text": [
            "[1 0 0 1 1 1 1 1 1 1 0 0 0 0 0]\n"
          ]
        }
      ]
    },
    {
      "cell_type": "code",
      "metadata": {
        "id": "I_tW7H56rgtW",
        "colab": {
          "base_uri": "https://localhost:8080/"
        },
        "outputId": "99e6e4c5-ee7a-447e-9c91-3ee7bbb3bb9c"
      },
      "source": [
        "print(y_test)"
      ],
      "execution_count": 15,
      "outputs": [
        {
          "output_type": "stream",
          "name": "stdout",
          "text": [
            "[1 1 0 1]\n"
          ]
        }
      ]
    },
    {
      "cell_type": "markdown",
      "metadata": {
        "id": "TpGqbS4TqkIR"
      },
      "source": [
        "## Feature Scaling"
      ]
    },
    {
      "cell_type": "code",
      "metadata": {
        "id": "AxjSUXFQqo-3"
      },
      "source": [
        "from sklearn.preprocessing import StandardScaler\n",
        "sc = StandardScaler()\n",
        "X_train = sc.fit_transform(X_train)\n",
        "X_test = sc.transform(X_test)"
      ],
      "execution_count": 16,
      "outputs": []
    },
    {
      "cell_type": "code",
      "metadata": {
        "id": "DWPET8ZdlMnu",
        "colab": {
          "base_uri": "https://localhost:8080/"
        },
        "outputId": "595c06b9-3271-483f-bf8a-12c4dcfa7fd6"
      },
      "source": [
        "print(X_train)"
      ],
      "execution_count": 17,
      "outputs": [
        {
          "output_type": "stream",
          "name": "stdout",
          "text": [
            "[[-0.39223227  1.22474487 -0.39223227 -0.26726124 -0.60302269  0.26246296\n",
            "  -0.84297196]\n",
            " [-0.39223227  1.22474487 -0.39223227 -0.26726124 -0.60302269 -1.08230476\n",
            "   1.77509356]\n",
            " [-0.39223227 -0.81649658 -0.39223227 -0.26726124  1.6583124   1.09001233\n",
            "  -0.21102511]\n",
            " [-0.39223227  1.22474487 -0.39223227 -0.26726124 -0.60302269  0.77968132\n",
            "  -0.84297196]\n",
            " [ 2.54950976 -0.81649658 -0.39223227 -0.26726124 -0.60302269 -1.59952311\n",
            "   1.41398107]\n",
            " [-0.39223227 -0.81649658  2.54950976 -0.26726124 -0.60302269 -1.80641046\n",
            "  -1.38464068]\n",
            " [-0.39223227 -0.81649658 -0.39223227 -0.26726124  1.6583124   1.40034334\n",
            "  -0.1489589 ]\n",
            " [-0.39223227 -0.81649658 -0.39223227  3.74165739 -0.60302269 -0.97886109\n",
            "   0.78203422]\n",
            " [-0.39223227 -0.81649658  2.54950976 -0.26726124 -0.60302269 -0.56508641\n",
            "  -1.38464068]\n",
            " [-0.39223227  1.22474487 -0.39223227 -0.26726124 -0.60302269  0.05557562\n",
            "  -0.75269383]\n",
            " [ 2.54950976 -0.81649658 -0.39223227 -0.26726124 -0.60302269  0.15901929\n",
            "   0.33064362]\n",
            " [-0.39223227  1.22474487 -0.39223227 -0.26726124 -0.60302269  1.29689967\n",
            "   1.77509356]\n",
            " [-0.39223227 -0.81649658 -0.39223227 -0.26726124  1.6583124   1.09001233\n",
            "  -0.1489589 ]\n",
            " [-0.39223227 -0.81649658 -0.39223227 -0.26726124  1.6583124  -0.05395297\n",
            "  -0.21102511]\n",
            " [-0.39223227  1.22474487 -0.39223227 -0.26726124 -0.60302269 -0.04786805\n",
            "  -0.1489589 ]]\n"
          ]
        }
      ]
    },
    {
      "cell_type": "code",
      "metadata": {
        "id": "sTXykB_QlRjE",
        "colab": {
          "base_uri": "https://localhost:8080/"
        },
        "outputId": "9cca05c5-4a62-43c4-f0f3-179df804657e"
      },
      "source": [
        "print(X_test)"
      ],
      "execution_count": 18,
      "outputs": [
        {
          "output_type": "stream",
          "name": "stdout",
          "text": [
            "[[-0.39223227 -0.81649658 -0.39223227 -0.26726124  1.6583124  -1.18574843\n",
            "  -0.21102511]\n",
            " [-0.39223227 -0.81649658  2.54950976 -0.26726124 -0.60302269  0.36590663\n",
            "  -1.38464068]\n",
            " [-0.39223227 -0.81649658 -0.39223227 -0.26726124  1.6583124  -0.05395297\n",
            "  -1.0235282 ]\n",
            " [ 2.54950976 -0.81649658 -0.39223227 -0.26726124 -0.60302269 -0.15131172\n",
            "  -0.21102511]]\n"
          ]
        }
      ]
    }
  ]
}