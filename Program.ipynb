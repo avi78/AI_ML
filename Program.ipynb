{
  "nbformat": 4,
  "nbformat_minor": 0,
  "metadata": {
    "colab": {
      "provenance": [],
      "authorship_tag": "ABX9TyMFc+sXOrGHjlse6gNFmX0b",
      "include_colab_link": true
    },
    "kernelspec": {
      "name": "python3",
      "display_name": "Python 3"
    },
    "language_info": {
      "name": "python"
    }
  },
  "cells": [
    {
      "cell_type": "markdown",
      "metadata": {
        "id": "view-in-github",
        "colab_type": "text"
      },
      "source": [
        "<a href=\"https://colab.research.google.com/github/avi78/AI_ML/blob/main/Program.ipynb\" target=\"_parent\"><img src=\"https://colab.research.google.com/assets/colab-badge.svg\" alt=\"Open In Colab\"/></a>"
      ]
    },
    {
      "cell_type": "code",
      "execution_count": 16,
      "metadata": {
        "id": "dAgolRURmkoG",
        "colab": {
          "base_uri": "https://localhost:8080/"
        },
        "outputId": "b1e63b1c-2ea6-4fa3-ee15-8ddcbcbe477d"
      },
      "outputs": [
        {
          "output_type": "stream",
          "name": "stdout",
          "text": [
            "Shortest distance from A to E is 9 km\n"
          ]
        }
      ],
      "source": [
        "import heapq\n",
        "grmap = { # 1st graph\n",
        " 'A': {'B': 3, 'C': 5},\n",
        " 'B': {'A': 3, 'C': 2, 'D': 8},\n",
        " 'C': {'A': 5, 'B': 2, 'D': 1, 'E': 4},\n",
        " 'D': {'B': 8, 'C': 1, 'E': 6},\n",
        " 'E': {'C': 4, 'D': 6}\n",
        "}\n",
        "heuristic = {\n",
        " 'A': 8,\n",
        " 'B': 6,\n",
        " 'C': 4,\n",
        " 'D': 3,\n",
        " 'E': 0\n",
        "}\n",
        "def a_star(grmap,heuristic,start,goal):\n",
        "  open_list = [(0,start)]\n",
        "  closed_set = set()\n",
        "  g_score = {location:float('inf') for location in grmap}\n",
        "  g_score[start] = 0\n",
        "  while open_list:\n",
        "    current_g,current_node = heapq.heappop(open_list)\n",
        "    if current_node == goal:\n",
        "      return g_score[goal]\n",
        "    if current_node in closed_set:\n",
        "      continue\n",
        "    closed_set.add(current_node)\n",
        "    for neighbour,distance in grmap[current_node].items():\n",
        "      tentative_g = g_score[current_node] + distance\n",
        "      if tentative_g < g_score[neighbour]:\n",
        "        g_score[neighbour]=tentative_g\n",
        "        f_score = tentative_g + heuristic[neighbour]\n",
        "        heapq.heappush(open_list,(f_score,neighbour))\n",
        "  return float('inf')\n",
        "start = 'A'\n",
        "goal = 'E'\n",
        "shortest_distance = a_star(grmap,heuristic,start,goal)\n",
        "if shortest_distance<float('inf'):\n",
        "  print(f\"Shortest distance from {start} to {goal} is {shortest_distance} km\")\n",
        "else:\n",
        "  print(f\"No path found from {start} to {goal}\")\n"
      ]
    },
    {
      "cell_type": "code",
      "source": [
        "import random\n",
        "import numpy as np\n",
        "import time\n",
        "z=0\n",
        "choice=[0,1]\n",
        "n = int(input(\"Enter room size: \"))\n",
        "room = np.empty((n,n))\n",
        "for x in range(n):\n",
        "  for y in range(n):\n",
        "    room[x][y] = random.choice(choice)\n",
        "print(\"Room Before\\n\",room)\n",
        "start = time.time()\n",
        "for x in range(n):\n",
        "  for y in range(n):\n",
        "    if (room[x][y]==1):\n",
        "      room[x][y] = 0\n",
        "      print(f\"cleaned {x} {y}\")\n",
        "      z+=1\n",
        "    else:\n",
        "      pass\n",
        "end = time.time()\n",
        "per = (z/(n*n))*100\n",
        "print(\"Room after\\n\",room)\n",
        "print(\"No. of room cleaned\",z)\n",
        "print(\"Time: \",(end-start))\n",
        "print(\"Performance: \",per)"
      ],
      "metadata": {
        "colab": {
          "base_uri": "https://localhost:8080/"
        },
        "id": "fUWGsEjEomEC",
        "outputId": "016d5f17-95ce-4061-8711-f35c8f43edaf"
      },
      "execution_count": 4,
      "outputs": [
        {
          "output_type": "stream",
          "name": "stdout",
          "text": [
            "Enter room size: 4\n",
            "Room Before\n",
            " [[0. 0. 1. 0.]\n",
            " [0. 1. 0. 0.]\n",
            " [0. 1. 1. 1.]\n",
            " [1. 0. 0. 0.]]\n",
            "cleaned 0 2\n",
            "cleaned 1 1\n",
            "cleaned 2 1\n",
            "cleaned 2 2\n",
            "cleaned 2 3\n",
            "cleaned 3 0\n",
            "Room after\n",
            " [[0. 0. 0. 0.]\n",
            " [0. 0. 0. 0.]\n",
            " [0. 0. 0. 0.]\n",
            " [0. 0. 0. 0.]]\n",
            "No. of room cleaned 6\n",
            "Time:  0.0016260147094726562\n",
            "Performance:  37.5\n"
          ]
        }
      ]
    },
    {
      "cell_type": "code",
      "source": [
        "maximum, minimum = 1000, -1000\n",
        "def fun_alphabeta(d,node,maxp,v,A,B):\n",
        "    if d == 3:\n",
        "        return v[node]\n",
        "    if maxp:\n",
        "        best = minimum\n",
        "        for i in range(0,2):\n",
        "            value = fun_alphabeta(d+1,node*2+i,False,v,A,B)\n",
        "            best = max(best,value)\n",
        "            A = max(A,best)\n",
        "            if B<=A:\n",
        "                break\n",
        "        return best\n",
        "    else:\n",
        "        best = maximum\n",
        "        for i in range(0,2):\n",
        "            value = fun_alphabeta(d+1,node*2+i,True,v,A,B)\n",
        "            best = min(best,value)\n",
        "            B = min(B,best)\n",
        "            if B<=A:\n",
        "                break\n",
        "        return best\n",
        "scr = []\n",
        "x = int(input(\"Enter total number of leaf node: \"))\n",
        "for i in range(x):\n",
        "    y = int(input(\"Enter node value \"))\n",
        "    scr.append(y)\n",
        "d = int(input(\"Enter depth value: \"))\n",
        "node = int(input(\"Enter node value: \"))\n",
        "print(\"The optimal value is: \",fun_alphabeta(d,node,True,scr,minimum,maximum))\n"
      ],
      "metadata": {
        "colab": {
          "base_uri": "https://localhost:8080/"
        },
        "id": "Qv_U3DMhqbkb",
        "outputId": "965eb80d-68ca-4f84-cdee-bc93c49d88ef"
      },
      "execution_count": 7,
      "outputs": [
        {
          "output_type": "stream",
          "name": "stdout",
          "text": [
            "Enter total number of leaf node: 8\n",
            "Enter node value 2\n",
            "Enter node value 3\n",
            "Enter node value 5\n",
            "Enter node value 9\n",
            "Enter node value 0\n",
            "Enter node value 1\n",
            "Enter node value 7\n",
            "Enter node value 5\n",
            "Enter depth value: 0\n",
            "Enter node value: 0\n",
            "The optimal value is:  3\n"
          ]
        }
      ]
    },
    {
      "cell_type": "code",
      "source": [
        "board = [\" \" for i in range(9)]\n",
        "def print_board():\n",
        "  row1 = f\"|{board[0]}|{board[1]}|{board[2]}|\"\n",
        "  row2 = f\"|{board[3]}|{board[4]}|{board[5]}|\"\n",
        "  row3 = f\"|{board[6]}|{board[7]}|{board[8]}|\"\n",
        "  print()\n",
        "  print(row1)\n",
        "  print(row2)\n",
        "  print(row3)\n",
        "  print()\n",
        "\n",
        "def player_move(icon):\n",
        "  if icon == \"X\":\n",
        "    number = 1\n",
        "  elif icon == \"O\":\n",
        "    number = 2\n",
        "  print(f\"Your Turn player {number}\")\n",
        "  choice = int(input(\"enter your move(1-9): \").strip())\n",
        "  if board[choice-1] == \" \":\n",
        "    board[choice-1] = icon\n",
        "  else:\n",
        "    print()\n",
        "    print(\"That space is already taken\")\n",
        "\n",
        "def is_victory(icon):\n",
        "  if (board[0] == icon and board[1] == icon and board[2] == icon) or (board[3] == icon and board[4] == icon and board[5] == icon) or (board[6]==icon and board[7]==icon and board[8]==icon) or (board[0] == icon and board[3] == icon and board[6] == icon) or (board[1] == icon and board[4] == icon and board[7] == icon) or (board[2] == icon and board[5] == icon and board[8] == icon) or (board[0] == icon and board[4] == icon and board[8] == icon) or (board[2] == icon and board[4] == icon and board[6] == icon):\n",
        "    return True\n",
        "  else:\n",
        "    return False\n",
        "def is_draw():\n",
        "  if \" \" not in board:\n",
        "    return True\n",
        "  else:\n",
        "    return False\n",
        "while True:\n",
        "  print_board()\n",
        "  player_move('X')\n",
        "  print_board()\n",
        "  if is_victory(\"X\"):\n",
        "    print(\"X wins! Congratulations!\")\n",
        "    break\n",
        "  elif is_draw():\n",
        "    print(\"It's a draw!\")\n",
        "    break\n",
        "  player_move(\"O\")\n",
        "  if is_victory(\"O\"):\n",
        "    print_board()\n",
        "    print(\"O wins! Congratulations!\")\n",
        "    break\n",
        "  elif is_draw():\n",
        "    print(\"It's a draw\")\n",
        "    break"
      ],
      "metadata": {
        "colab": {
          "base_uri": "https://localhost:8080/"
        },
        "id": "ZRMwjbMHs6Af",
        "outputId": "85ada562-e4be-45fa-ac50-e5556dc01fc7"
      },
      "execution_count": 9,
      "outputs": [
        {
          "output_type": "stream",
          "name": "stdout",
          "text": [
            "\n",
            "| | | |\n",
            "| | | |\n",
            "| | | |\n",
            "\n",
            "Your Turn player 1\n",
            "enter your move(1-9): 1\n",
            "\n",
            "|X| | |\n",
            "| | | |\n",
            "| | | |\n",
            "\n",
            "Your Turn player 2\n",
            "enter your move(1-9): 2\n",
            "\n",
            "|X|O| |\n",
            "| | | |\n",
            "| | | |\n",
            "\n",
            "Your Turn player 1\n",
            "enter your move(1-9): 4\n",
            "\n",
            "|X|O| |\n",
            "|X| | |\n",
            "| | | |\n",
            "\n",
            "Your Turn player 2\n",
            "enter your move(1-9): 6\n",
            "\n",
            "|X|O| |\n",
            "|X| |O|\n",
            "| | | |\n",
            "\n",
            "Your Turn player 1\n",
            "enter your move(1-9): 7\n",
            "\n",
            "|X|O| |\n",
            "|X| |O|\n",
            "|X| | |\n",
            "\n",
            "X wins! Congratulations!\n"
          ]
        }
      ]
    },
    {
      "cell_type": "code",
      "source": [
        "def mcculloch_pitts(inputs,weights,threshold):\n",
        "  assert len(inputs) == len(weights), \"Number of inputs must match number of weights\"\n",
        "  weighted_sum = sum(x*w for x,w in zip(inputs,weights))\n",
        "  output = 1 if weighted_sum >= threshold else 0\n",
        "  return output\n",
        "def test_logic(gate):\n",
        "  print(f\"Testing {gate} gate:\")\n",
        "  if gate == \"AND\":\n",
        "    inputs = [(0,0),(0,1),(1,0),(1,1)]\n",
        "    weights = (1,1)\n",
        "    threshold = 2\n",
        "  elif gate == \"OR\":\n",
        "    inputs = [(0,0),(0,1),(1,0),(1,1)]\n",
        "    weights = (1,1)\n",
        "    threshold = 1\n",
        "  elif gate == \"XOR\":\n",
        "    inputs = [(0,0),(0,1),(1,0),(1,1)]\n",
        "    weights_and = (1,-1)\n",
        "    weights_andnot = (-1,1)\n",
        "    weights_or = (1,1)\n",
        "    threshold = 1\n",
        "    for input_pair in inputs:\n",
        "      input1,input2 = input_pair\n",
        "      and_result = mcculloch_pitts(input_pair,weights_and,threshold)\n",
        "      andnot_result = mcculloch_pitts(input_pair,weights_andnot,threshold)\n",
        "      or_result = mcculloch_pitts((and_result,andnot_result),weights_or,threshold)\n",
        "      print(f\"{input_pair}:{or_result}\")\n",
        "    return\n",
        "  elif gate == \"AND NOT\":\n",
        "    inputs = [(0,0),(0,1),(1,0),(1,1)]\n",
        "    weights = (1,-1)\n",
        "    threshold = 1\n",
        "  else:\n",
        "    print(\"Invalid logic gate\")\n",
        "  for input_pair in inputs:\n",
        "    result = mcculloch_pitts(input_pair,weights,threshold)\n",
        "    print(f\"{input_pair}:{result}\")\n",
        "\n",
        "test_logic(\"AND\")\n",
        "test_logic(\"OR\")\n",
        "test_logic(\"XOR\")\n",
        "test_logic(\"AND NOT\")"
      ],
      "metadata": {
        "colab": {
          "base_uri": "https://localhost:8080/"
        },
        "id": "BO50Q6nHxzy4",
        "outputId": "6523f807-6b6c-488d-ae94-19b7cbe4a8a3"
      },
      "execution_count": 15,
      "outputs": [
        {
          "output_type": "stream",
          "name": "stdout",
          "text": [
            "Testing AND gate:\n",
            "(0, 0):0\n",
            "(0, 1):0\n",
            "(1, 0):0\n",
            "(1, 1):1\n",
            "Testing OR gate:\n",
            "(0, 0):0\n",
            "(0, 1):1\n",
            "(1, 0):1\n",
            "(1, 1):1\n",
            "Testing XOR gate:\n",
            "(0, 0):0\n",
            "(0, 1):1\n",
            "(1, 0):1\n",
            "(1, 1):0\n",
            "Testing AND NOT gate:\n",
            "(0, 0):0\n",
            "(0, 1):0\n",
            "(1, 0):1\n",
            "(1, 1):0\n"
          ]
        }
      ]
    },
    {
      "cell_type": "code",
      "source": [
        "import numpy as np\n",
        "theta = 1\n",
        "epoch = 3\n",
        "class Perceptron(object):\n",
        "  def __init__(self,input_size,learning_rate = 0.2):\n",
        "    self.learning_rate = learning_rate\n",
        "    self.weights = np.zeros(input_size + 1)\n",
        "  def predict(self,x):\n",
        "    return (np.dot(x,self.weights[1:]) + self.weights[0])\n",
        "  def train(self,x,y,weights):\n",
        "    for inputs,label in zip(x,y):\n",
        "      net_in = self.predict(inputs)\n",
        "      if net_in > theta:\n",
        "        y_out = 1\n",
        "      elif net_in < -theta:\n",
        "        y_out = -1\n",
        "      else:\n",
        "        y_out = 0\n",
        "      if y_out != label:\n",
        "        self.weights[1:] += self.learning_rate*label*inputs\n",
        "        self.weights[0] += self.learning_rate*label\n",
        "      print(inputs,net_in,label,y_out,self.weights)\n",
        "if __name__ == \"__main__\":\n",
        "  x = []\n",
        "  x.append(np.array([1,1]))\n",
        "  x.append(np.array([1,-1]))\n",
        "  x.append(np.array([-1,1]))\n",
        "  x.append(np.array([-1,-1]))\n",
        "  y = np.array([1,-1,-1,-1])\n",
        "perceptron = Perceptron(2)\n",
        "for i in range(epoch):\n",
        "  print(\"Epoch\",i)\n",
        "  print(\"X1 X2\",\"Net\",\"T\",\"Y\",\"B Weights\")\n",
        "  weights = perceptron.weights\n",
        "  print(\"Initial Weights\",weights)\n",
        "  perceptron.train(x,y,weights)"
      ],
      "metadata": {
        "colab": {
          "base_uri": "https://localhost:8080/"
        },
        "id": "eOFNLDvw3hUG",
        "outputId": "c2858b39-bcc5-4d17-aba6-d56d9e844183"
      },
      "execution_count": 18,
      "outputs": [
        {
          "output_type": "stream",
          "name": "stdout",
          "text": [
            "Epoch 0\n",
            "X1 X2 Net T Y B Weights\n",
            "Initial Weights [0. 0. 0.]\n",
            "[1 1] 0.0 1 0 [0.2 0.2 0.2]\n",
            "[ 1 -1] 0.2 -1 0 [0.  0.  0.4]\n",
            "[-1  1] 0.4 -1 0 [-0.2  0.2  0.2]\n",
            "[-1 -1] -0.6000000000000001 -1 0 [-0.4  0.4  0.4]\n",
            "Epoch 1\n",
            "X1 X2 Net T Y B Weights\n",
            "Initial Weights [-0.4  0.4  0.4]\n",
            "[1 1] 0.4 1 0 [-0.2  0.6  0.6]\n",
            "[ 1 -1] -0.2 -1 0 [-0.4  0.4  0.8]\n",
            "[-1  1] -5.551115123125783e-17 -1 0 [-0.6  0.6  0.6]\n",
            "[-1 -1] -1.8000000000000003 -1 -1 [-0.6  0.6  0.6]\n",
            "Epoch 2\n",
            "X1 X2 Net T Y B Weights\n",
            "Initial Weights [-0.6  0.6  0.6]\n",
            "[1 1] 0.6000000000000001 1 0 [-0.4  0.8  0.8]\n",
            "[ 1 -1] -0.4000000000000001 -1 0 [-0.6  0.6  1. ]\n",
            "[-1  1] -0.20000000000000018 -1 0 [-0.8  0.8  0.8]\n",
            "[-1 -1] -2.4000000000000004 -1 -1 [-0.8  0.8  0.8]\n"
          ]
        }
      ]
    },
    {
      "cell_type": "code",
      "source": [],
      "metadata": {
        "id": "Zn9gGdtL7PC4"
      },
      "execution_count": null,
      "outputs": []
    }
  ]
}