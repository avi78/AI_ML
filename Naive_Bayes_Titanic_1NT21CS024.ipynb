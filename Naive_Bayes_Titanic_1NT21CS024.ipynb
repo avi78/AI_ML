{
  "nbformat": 4,
  "nbformat_minor": 0,
  "metadata": {
    "colab": {
      "provenance": [],
      "machine_shape": "hm",
      "include_colab_link": true
    },
    "kernelspec": {
      "name": "python3",
      "display_name": "Python 3"
    }
  },
  "cells": [
    {
      "cell_type": "markdown",
      "metadata": {
        "id": "view-in-github",
        "colab_type": "text"
      },
      "source": [
        "<a href=\"https://colab.research.google.com/github/avi78/AI_ML/blob/main/Naive_Bayes_Titanic_1NT21CS024.ipynb\" target=\"_parent\"><img src=\"https://colab.research.google.com/assets/colab-badge.svg\" alt=\"Open In Colab\"/></a>"
      ]
    },
    {
      "cell_type": "markdown",
      "metadata": {
        "id": "0MRC0e0KhQ0S"
      },
      "source": [
        "# Naive Bayes"
      ]
    },
    {
      "cell_type": "markdown",
      "metadata": {
        "id": "LWd1UlMnhT2s"
      },
      "source": [
        "## Importing the libraries"
      ]
    },
    {
      "cell_type": "code",
      "metadata": {
        "id": "YvGPUQaHhXfL"
      },
      "source": [
        "import numpy as np\n",
        "import matplotlib.pyplot as plt\n",
        "import pandas as pd"
      ],
      "execution_count": 1,
      "outputs": []
    },
    {
      "cell_type": "markdown",
      "metadata": {
        "id": "K1VMqkGvhc3-"
      },
      "source": [
        "## Importing the dataset"
      ]
    },
    {
      "cell_type": "code",
      "metadata": {
        "id": "M52QDmyzhh9s"
      },
      "source": [
        "dataset = pd.read_csv('Titaanic_Dataset.csv')\n",
        "X = dataset.iloc[:, :-1].values\n",
        "y = dataset.iloc[:, -1].values"
      ],
      "execution_count": 2,
      "outputs": []
    },
    {
      "cell_type": "markdown",
      "metadata": {
        "id": "YvxIPVyMhmKp"
      },
      "source": [
        "## Splitting the dataset into the Training set and Test set"
      ]
    },
    {
      "cell_type": "code",
      "metadata": {
        "id": "AVzJWAXIhxoC"
      },
      "source": [
        "from sklearn.model_selection import train_test_split\n",
        "X_train, X_test, y_train, y_test = train_test_split(X, y, test_size = 0.25, random_state = 0)"
      ],
      "execution_count": 3,
      "outputs": []
    },
    {
      "cell_type": "code",
      "metadata": {
        "id": "P3nS3-6r1i2B",
        "outputId": "755f22f3-887a-45ca-d5a5-c8dd676377c8",
        "colab": {
          "base_uri": "https://localhost:8080/"
        }
      },
      "source": [
        "print(X_train)"
      ],
      "execution_count": 4,
      "outputs": [
        {
          "output_type": "stream",
          "name": "stdout",
          "text": [
            "[[ 26.      26.    ]\n",
            " [ 40.     134.5   ]\n",
            " [ 42.      26.2875]\n",
            " ...\n",
            " [ 32.      30.5   ]\n",
            " [ 28.      13.5   ]\n",
            " [ 19.      10.1708]]\n"
          ]
        }
      ]
    },
    {
      "cell_type": "code",
      "metadata": {
        "id": "8dpDLojm1mVG",
        "outputId": "0dbf50d6-94f7-47be-aa22-a2d5bdf16107",
        "colab": {
          "base_uri": "https://localhost:8080/"
        }
      },
      "source": [
        "print(y_train)"
      ],
      "execution_count": 5,
      "outputs": [
        {
          "output_type": "stream",
          "name": "stdout",
          "text": [
            "[0 1 1 1 0 1 0 1 0 1 0 1 0 1 0 0 1 1 1 1 0 1 0 1 0 1 1 1 0 0 0 1 1 0 1 0 0\n",
            " 0 0 1 1 1 1 0 1 0 1 1 0 0 0 0 1 1 0 1 0 0 0 0 1 0 0 0 0 1 0 0 0 0 0 1 0 0\n",
            " 0 1 1 0 1 0 0 0 0 1 1 1 1 1 0 0 0 0 1 0 0 0 0 0 1 0 0 0 0 0 0 0 1 0 0 1 1\n",
            " 0 0 1 1 1 1 0 1 0 0 0 0 1 0 0 0 0 0 0 0 0 1 1 1 0 0 0 1 1 0 0 0 1 1 0 1 0\n",
            " 0 0 0 0 0 0 1 1 1 0 1 0 1 1 1 1 0 0 0 1 0 0 0 0 0 0 1 0 1 1 0 1 1 0 0 0 1\n",
            " 0 0 0 1 1 0 1 1 0 1 0 0 0 0 0 1 0 1 1 1 0 0 1 0 0 0 0 1 0 1 0 0 1 1 0 0 0\n",
            " 0 1 0 0 0 1 1 0 0 1 0 1 0 0 0 0 1 0 0 1 0 1 1 0 1 0 1 1 0 0 0 0 1 0 0 0 0\n",
            " 1 1 0 0 0 1 1 1 0 0 1 0 0 1 0 1 0 0 0 0 0 0 0 1 0 1 1 0 0 1 1 1 1 1 0 0 0\n",
            " 0 0 0 0 0 1 0 0 1 0 1 0 0 0 0 0 1 0 1 1 1 0 1 1 0 1 0 0 1 0 0 0 1 1 1 0 1\n",
            " 1 0 0 1 0 0 0 1 0 0 1 0 1 1 0 1 1 1 1 0 0 0 0 1 0 1 0 1 0 0 0 1 1 1 1 0 0\n",
            " 1 1 0 1 0 0 1 1 0 0 1 1 0 1 1 0 0 0 0 1 1 0 0 1 0 0 0 0 1 0 0 0 0 0 0 0 0\n",
            " 0 0 1 1 0 1 0 1 0 1 0 0 1 0 1 0 0 0 0 0 0 0 1 0 0 1 1 0 1 0 0 0 0 0 0 1 0\n",
            " 0 0 0 0 0 0 0 0 1 1 0 0 0 1 0 1 0 0 0 0 0 1 0 0 0 0 0 1 0 1 1 1 0 1 0 0 0\n",
            " 1 0 0 1 0 0 0 0 0 0 0 0 0 0 1 0 0 1 1 0 1 1 1 1 0 0 1 0 0 1 0 1 1 0 0 1 0\n",
            " 0 1 1 1 1 1 1 1 0 1 1 0 0 0 0 0 0 0 0 0 0 1 0 0 0 0 1 0 1 0 0 0 0 1 0 0 1\n",
            " 0 0 1 1 1 0 0 0 0 0 1 0 1 0 0 0 0 0 0 0 0 0 0 1 1 0 0 0 1 0 0 0 0 0 0 1 1\n",
            " 1 0 1 1 0 1 1 1 0 0 1 0 1 0 0 1 1 0 1 0 0 0 1 1 1 0 1 1 1 1 0 0 1 1 0 0 0\n",
            " 0 0 1 1 0 1 0 1 1 0 1 1 0 1 1 1 1 1 0 0 0 0 0 0 0 1 1 1 0 1 0 1 1 1 0 0]\n"
          ]
        }
      ]
    },
    {
      "cell_type": "code",
      "metadata": {
        "id": "qbb7i0DH1qui",
        "outputId": "1e4ed9b0-b2fc-419b-c240-2c064251c716",
        "colab": {
          "base_uri": "https://localhost:8080/"
        }
      },
      "source": [
        "print(X_test)"
      ],
      "execution_count": 6,
      "outputs": [
        {
          "output_type": "stream",
          "name": "stdout",
          "text": [
            "[[ 14.       7.8542]\n",
            " [  5.      69.55  ]\n",
            " [ 46.      39.6   ]\n",
            " [ 31.       7.925 ]\n",
            " [  8.      25.4667]\n",
            " [ 40.       0.    ]\n",
            " [ 42.      52.5542]\n",
            " [  4.      15.2458]\n",
            " [ 45.      26.55  ]\n",
            " [ 27.      26.    ]\n",
            " [ 41.      20.2125]\n",
            " [ 48.     146.5208]\n",
            " [ 19.       7.8958]\n",
            " [ 19.      36.75  ]\n",
            " [ 19.      14.5   ]\n",
            " [ 23.       7.225 ]\n",
            " [ 34.      23.    ]\n",
            " [ 32.       7.8542]\n",
            " [ 60.      26.55  ]\n",
            " [ 60.      79.2   ]\n",
            " [ 21.      69.55  ]\n",
            " [ 18.       7.7333]\n",
            " [ 16.       8.05  ]\n",
            " [ 50.     133.65  ]\n",
            " [ 35.      26.2875]\n",
            " [ 38.      80.    ]\n",
            " [  3.      21.075 ]\n",
            " [ 21.      10.5   ]\n",
            " [ 24.       7.4958]\n",
            " [ 21.       8.05  ]\n",
            " [  0.83    29.    ]\n",
            " [ 23.       7.55  ]\n",
            " [ 48.      25.9292]\n",
            " [ 15.       7.225 ]\n",
            " [ 58.      29.7   ]\n",
            " [ 54.      78.2667]\n",
            " [ 65.      26.55  ]\n",
            " [ 29.       8.1125]\n",
            " [ 44.       7.925 ]\n",
            " [ 34.      14.4   ]\n",
            " [ 17.       8.6625]\n",
            " [ 30.      16.1   ]\n",
            " [ 31.      26.25  ]\n",
            " [ 26.       7.8958]\n",
            " [ 17.       7.75  ]\n",
            " [ 18.       8.3   ]\n",
            " [ 60.      75.25  ]\n",
            " [ 28.       7.8542]\n",
            " [ 42.       8.4042]\n",
            " [ 32.       8.05  ]\n",
            " [ 19.       7.8958]\n",
            " [ 23.5      7.2292]\n",
            " [  9.      46.9   ]\n",
            " [ 19.      14.4542]\n",
            " [ 49.       7.775 ]\n",
            " [ 46.      26.    ]\n",
            " [ 34.      16.1   ]\n",
            " [ 40.5      7.75  ]\n",
            " [ 31.       8.6833]\n",
            " [ 30.       7.2292]\n",
            " [ 27.      11.1333]\n",
            " [ 29.       7.225 ]\n",
            " [ 65.       7.75  ]\n",
            " [ 36.      13.    ]\n",
            " [ 19.       6.75  ]\n",
            " [  8.      36.75  ]\n",
            " [ 27.       7.8958]\n",
            " [ 25.      26.    ]\n",
            " [ 21.       7.775 ]\n",
            " [ 44.      27.7208]\n",
            " [ 28.      82.1708]\n",
            " [ 64.      26.    ]\n",
            " [ 18.       9.8417]\n",
            " [  7.      26.25  ]\n",
            " [ 19.     263.    ]\n",
            " [ 40.      27.7208]\n",
            " [ 27.       7.7958]\n",
            " [ 35.      10.5   ]\n",
            " [ 24.       9.5   ]\n",
            " [ 33.       9.5   ]\n",
            " [ 62.      26.55  ]\n",
            " [ 28.      24.15  ]\n",
            " [ 58.     113.275 ]\n",
            " [ 35.     135.6333]\n",
            " [ 24.      73.5   ]\n",
            " [ 21.      77.2875]\n",
            " [ 20.       8.6625]\n",
            " [ 45.      35.5   ]\n",
            " [ 23.       7.925 ]\n",
            " [ 49.     110.8833]\n",
            " [ 32.       7.8958]\n",
            " [ 22.       7.75  ]\n",
            " [ 28.       7.8958]\n",
            " [ 24.      22.3583]\n",
            " [ 27.      13.    ]\n",
            " [ 36.      10.5   ]\n",
            " [ 40.       7.75  ]\n",
            " [ 20.       9.225 ]\n",
            " [ 26.      56.4958]\n",
            " [ 27.       7.8958]\n",
            " [ 22.       7.5208]\n",
            " [ 22.      66.6   ]\n",
            " [ 36.      26.3875]\n",
            " [ 19.      30.    ]\n",
            " [ 17.      69.55  ]\n",
            " [ 70.      10.5   ]\n",
            " [ 58.     153.4625]\n",
            " [ 33.      16.1   ]\n",
            " [ 33.       8.6625]\n",
            " [ 31.     113.275 ]\n",
            " [  1.      15.7417]\n",
            " [ 19.       7.7292]\n",
            " [ 48.      34.375 ]\n",
            " [ 24.      15.85  ]\n",
            " [  5.      25.4667]\n",
            " [ 22.       8.05  ]\n",
            " [ 55.      15.1   ]\n",
            " [ 48.      76.7292]\n",
            " [ 27.       8.4583]\n",
            " [ 33.       7.8958]\n",
            " [  1.      46.9   ]\n",
            " [ 37.       7.925 ]\n",
            " [ 22.       7.8958]\n",
            " [ 37.      52.5542]\n",
            " [ 16.      39.6875]\n",
            " [ 32.       7.75  ]\n",
            " [  2.      26.    ]\n",
            " [ 62.       8.05  ]\n",
            " [ 25.      91.0792]\n",
            " [ 20.       8.6625]\n",
            " [ 18.       6.75  ]\n",
            " [ 18.       7.4958]\n",
            " [ 17.      14.4583]\n",
            " [ 30.      31.    ]\n",
            " [ 21.       8.05  ]\n",
            " [ 27.       6.975 ]\n",
            " [ 40.       9.475 ]\n",
            " [ 40.      13.    ]\n",
            " [ 24.      18.75  ]\n",
            " [ 25.      41.5792]\n",
            " [ 25.      17.8   ]\n",
            " [ 50.      10.5   ]\n",
            " [  9.      31.275 ]\n",
            " [ 21.       7.7958]\n",
            " [  2.      10.4625]\n",
            " [  2.      39.6875]\n",
            " [  0.75    19.2583]\n",
            " [ 25.       7.925 ]\n",
            " [ 19.      19.9667]\n",
            " [  4.      27.9   ]\n",
            " [ 22.       9.    ]\n",
            " [ 49.      56.9292]\n",
            " [ 37.       9.5875]\n",
            " [ 31.     164.8667]\n",
            " [ 41.      19.5   ]\n",
            " [ 29.       7.775 ]\n",
            " [ 50.      26.    ]\n",
            " [ 30.      24.    ]\n",
            " [ 32.       7.925 ]\n",
            " [ 18.      69.55  ]\n",
            " [ 54.      23.    ]\n",
            " [ 16.      34.375 ]\n",
            " [ 40.      27.9   ]\n",
            " [ 23.       7.8958]\n",
            " [ 28.       7.925 ]\n",
            " [ 27.       7.925 ]\n",
            " [ 30.       0.    ]\n",
            " [ 35.       7.225 ]\n",
            " [ 52.      13.    ]\n",
            " [ 38.      71.2833]\n",
            " [ 28.      14.4   ]\n",
            " [ 32.      15.5   ]\n",
            " [ 18.       7.25  ]\n",
            " [ 32.      56.4958]\n",
            " [ 18.       7.775 ]\n",
            " [  9.      31.3875]\n",
            " [  9.      27.9   ]\n",
            " [ 22.       7.75  ]\n",
            " [ 30.       7.25  ]\n",
            " [ 38.      79.2   ]\n",
            " [  2.      12.2875]\n",
            " [ 37.      29.7   ]\n",
            " [ 48.      39.6   ]\n",
            " [ 48.       7.8542]\n",
            " [ 59.      13.5   ]\n",
            " [ 69.      14.5   ]\n",
            " [ 17.       8.6625]\n",
            " [ 40.       7.225 ]\n",
            " [ 33.      53.1   ]\n",
            " [ 23.     113.275 ]\n",
            " [ 39.       7.25  ]\n",
            " [ 30.      27.7208]\n",
            " [ 40.       7.8958]\n",
            " [ 46.      35.5   ]\n",
            " [ 20.      15.5   ]\n",
            " [ 21.       7.925 ]\n",
            " [ 52.      93.5   ]\n",
            " [ 21.       7.75  ]\n",
            " [ 45.5      7.225 ]\n",
            " [ 43.      26.25  ]\n",
            " [ 30.      13.    ]\n",
            " [ 14.      11.2417]\n",
            " [ 17.       7.2292]\n",
            " [  2.      26.    ]\n",
            " [ 31.      18.    ]\n",
            " [ 24.      23.25  ]\n",
            " [ 30.       8.05  ]\n",
            " [ 18.      15.5   ]\n",
            " [ 21.       7.55  ]\n",
            " [ 21.       7.8   ]\n",
            " [ 42.      13.    ]\n",
            " [  8.      26.25  ]\n",
            " [ 56.      35.5   ]\n",
            " [ 32.5     13.    ]\n",
            " [ 36.      40.125 ]\n",
            " [ 60.      25.925 ]\n",
            " [ 23.      13.    ]\n",
            " [ 28.      12.65  ]\n",
            " [ 33.       7.75  ]\n",
            " [  4.      16.7   ]\n",
            " [ 21.       7.65  ]\n",
            " [ 26.       8.6625]]\n"
          ]
        }
      ]
    },
    {
      "cell_type": "code",
      "metadata": {
        "id": "kj1hnFAR1s5w",
        "outputId": "9fd9a314-cb12-4ad3-b35a-6e71c456204a",
        "colab": {
          "base_uri": "https://localhost:8080/"
        }
      },
      "source": [
        "print(y_test)"
      ],
      "execution_count": 7,
      "outputs": [
        {
          "output_type": "stream",
          "name": "stdout",
          "text": [
            "[0 0 0 1 0 0 1 1 0 0 0 1 0 0 0 0 1 1 0 1 0 0 0 1 1 1 0 1 0 0 1 1 1 1 0 1 0\n",
            " 1 1 0 0 0 0 0 0 0 1 0 0 0 0 0 0 0 0 0 1 0 1 0 1 0 0 0 0 1 0 1 0 1 0 0 1 1\n",
            " 0 0 1 0 0 0 0 0 0 1 0 0 0 0 0 0 0 1 0 1 0 0 0 0 1 0 0 1 1 1 0 0 1 1 0 1 1\n",
            " 0 0 1 0 0 0 1 0 0 0 0 0 1 0 0 1 0 1 0 0 1 0 1 0 1 0 1 1 0 0 1 0 1 0 0 1 0\n",
            " 0 0 0 1 0 1 1 0 1 0 0 0 1 0 0 0 0 1 0 0 0 1 0 0 0 1 0 0 0 1 0 1 1 0 1 0 0\n",
            " 0 0 0 1 1 0 0 0 1 0 0 1 0 0 0 0 1 0 1 0 1 0 1 0 0 1 1 1 1 0 0 0 1 1 1 1 0]\n"
          ]
        }
      ]
    },
    {
      "cell_type": "markdown",
      "metadata": {
        "id": "kW3c7UYih0hT"
      },
      "source": [
        "## Feature Scaling"
      ]
    },
    {
      "cell_type": "code",
      "metadata": {
        "id": "9fQlDPKCh8sc"
      },
      "source": [
        "from sklearn.preprocessing import StandardScaler\n",
        "sc = StandardScaler()\n",
        "X_train = sc.fit_transform(X_train)\n",
        "X_test = sc.transform(X_test)"
      ],
      "execution_count": 8,
      "outputs": []
    },
    {
      "cell_type": "code",
      "metadata": {
        "id": "syrnD1Op2BSR",
        "outputId": "7b56c547-48da-4f8e-a5ed-4046c8236838",
        "colab": {
          "base_uri": "https://localhost:8080/"
        }
      },
      "source": [
        "print(X_train)"
      ],
      "execution_count": 9,
      "outputs": [
        {
          "output_type": "stream",
          "name": "stdout",
          "text": [
            "[[-0.24513878 -0.14742316]\n",
            " [ 0.77027863  1.86115136]\n",
            " [ 0.91533826 -0.1421009 ]\n",
            " ...\n",
            " [ 0.19004011 -0.06411823]\n",
            " [-0.10007915 -0.37882576]\n",
            " [-0.75284748 -0.4404566 ]]\n"
          ]
        }
      ]
    },
    {
      "cell_type": "code",
      "metadata": {
        "id": "JUd6iBRp2C3L",
        "outputId": "5899a5a6-07c7-4c16-dc66-088a480b816c",
        "colab": {
          "base_uri": "https://localhost:8080/"
        }
      },
      "source": [
        "print(X_test)"
      ],
      "execution_count": 10,
      "outputs": [
        {
          "output_type": "stream",
          "name": "stdout",
          "text": [
            "[[-1.11549655 -0.48334198]\n",
            " [-1.76826488  0.65878348]\n",
            " [ 1.20545752  0.10434286]\n",
            " [ 0.1175103  -0.48203131]\n",
            " [-1.55067544 -0.15729572]\n",
            " [ 0.77027863 -0.62874056]\n",
            " [ 0.91533826  0.3441537 ]\n",
            " [-1.8407947  -0.34650714]\n",
            " [ 1.1329277  -0.13724145]\n",
            " [-0.17260896 -0.14742316]\n",
            " [ 0.84280844 -0.25456256]\n",
            " [ 1.35051714  2.0836829 ]\n",
            " [-0.75284748 -0.48257187]\n",
            " [-0.75284748  0.05158307]\n",
            " [-0.75284748 -0.36031355]\n",
            " [-0.46272822 -0.49498986]\n",
            " [ 0.33509974 -0.20295978]\n",
            " [ 0.19004011 -0.48334198]\n",
            " [ 2.22087492 -0.13724145]\n",
            " [ 2.22087492  0.83742628]\n",
            " [-0.60778785  0.65878348]\n",
            " [-0.82537729 -0.4855801 ]\n",
            " [-0.97043692 -0.47971729]\n",
            " [ 1.49557677  1.84541598]\n",
            " [ 0.40762956 -0.1421009 ]\n",
            " [ 0.625219    0.85223605]\n",
            " [-1.91332451 -0.23859578]\n",
            " [-0.60778785 -0.43436238]\n",
            " [-0.39019841 -0.48997675]\n",
            " [-0.60778785 -0.47971729]\n",
            " [-2.07071421 -0.09188654]\n",
            " [-0.46272822 -0.48897339]\n",
            " [ 1.35051714 -0.14873383]\n",
            " [-1.04296674 -0.49498986]\n",
            " [ 2.07581529 -0.07892799]\n",
            " [ 1.78569603  0.82014884]\n",
            " [ 2.58352399 -0.13724145]\n",
            " [-0.02754933 -0.47856027]\n",
            " [ 1.06039789 -0.48203131]\n",
            " [ 0.33509974 -0.36216477]\n",
            " [-0.89790711 -0.46837856]\n",
            " [ 0.04498048 -0.33069402]\n",
            " [ 0.1175103  -0.14279511]\n",
            " [-0.24513878 -0.48257187]\n",
            " [-0.89790711 -0.48527095]\n",
            " [-0.82537729 -0.47508924]\n",
            " [ 2.22087492  0.76430306]\n",
            " [-0.10007915 -0.48334198]\n",
            " [ 0.91533826 -0.47316026]\n",
            " [ 0.19004011 -0.47971729]\n",
            " [-0.75284748 -0.48257187]\n",
            " [-0.42646331 -0.49491211]\n",
            " [-1.47814562  0.23948198]\n",
            " [-0.75284748 -0.36116141]\n",
            " [ 1.42304696 -0.48480814]\n",
            " [ 1.20545752 -0.14742316]\n",
            " [ 0.33509974 -0.33069402]\n",
            " [ 0.80654354 -0.48527095]\n",
            " [ 0.1175103  -0.46799351]\n",
            " [ 0.04498048 -0.49491211]\n",
            " [-0.17260896 -0.4226386 ]\n",
            " [-0.02754933 -0.49498986]\n",
            " [ 2.58352399 -0.48527095]\n",
            " [ 0.48015937 -0.38808186]\n",
            " [-0.75284748 -0.50378316]\n",
            " [-1.55067544  0.05158307]\n",
            " [-0.17260896 -0.48257187]\n",
            " [-0.31766859 -0.14742316]\n",
            " [-0.60778785 -0.48480814]\n",
            " [ 1.06039789 -0.11556736]\n",
            " [-0.10007915  0.89242235]\n",
            " [ 2.51099418 -0.14742316]\n",
            " [-0.82537729 -0.44654897]\n",
            " [-1.62320525 -0.14279511]\n",
            " [-0.75284748  4.23997003]\n",
            " [ 0.77027863 -0.11556736]\n",
            " [-0.17260896 -0.48442309]\n",
            " [ 0.40762956 -0.43436238]\n",
            " [-0.39019841 -0.45287459]\n",
            " [ 0.26256993 -0.45287459]\n",
            " [ 2.36593455 -0.13724145]\n",
            " [-0.10007915 -0.18167075]\n",
            " [ 2.07581529  1.46822975]\n",
            " [ 0.40762956  1.88213124]\n",
            " [-0.39019841  0.7319067 ]\n",
            " [-0.60778785  0.80202168]\n",
            " [-0.68031766 -0.46837856]\n",
            " [ 1.1329277   0.02844281]\n",
            " [-0.46272822 -0.48203131]\n",
            " [ 1.42304696  1.42395411]\n",
            " [ 0.19004011 -0.48257187]\n",
            " [-0.53525803 -0.48527095]\n",
            " [-0.10007915 -0.48257187]\n",
            " [-0.39019841 -0.21483907]\n",
            " [-0.17260896 -0.38808186]\n",
            " [ 0.48015937 -0.43436238]\n",
            " [ 0.77027863 -0.48527095]\n",
            " [-0.68031766 -0.45796544]\n",
            " [-0.24513878  0.41712142]\n",
            " [-0.17260896 -0.48257187]\n",
            " [-0.53525803 -0.48951395]\n",
            " [-0.53525803  0.60417247]\n",
            " [ 0.48015937 -0.14024968]\n",
            " [-0.75284748 -0.07337433]\n",
            " [-0.89790711  0.65878348]\n",
            " [ 2.94617307 -0.43436238]\n",
            " [ 2.07581529  2.21218909]\n",
            " [ 0.26256993 -0.33069402]\n",
            " [ 0.26256993 -0.46837856]\n",
            " [ 0.1175103   1.46822975]\n",
            " [-2.05838414 -0.33732694]\n",
            " [-0.75284748 -0.485656  ]\n",
            " [ 1.35051714  0.00761658]\n",
            " [-0.39019841 -0.33532207]\n",
            " [-1.76826488 -0.15729572]\n",
            " [-0.53525803 -0.47971729]\n",
            " [ 1.85822585 -0.34920622]\n",
            " [ 1.35051714  0.79168632]\n",
            " [-0.17260896 -0.47215875]\n",
            " [ 0.26256993 -0.48257187]\n",
            " [-2.05838414  0.23948198]\n",
            " [ 0.55268918 -0.48203131]\n",
            " [-0.53525803 -0.48257187]\n",
            " [ 0.55268918  0.3441537 ]\n",
            " [-0.97043692  0.10596268]\n",
            " [ 0.19004011 -0.48527095]\n",
            " [-1.98585433 -0.14742316]\n",
            " [ 2.36593455 -0.47971729]\n",
            " [-0.31766859  1.0573365 ]\n",
            " [-0.68031766 -0.46837856]\n",
            " [-0.82537729 -0.50378316]\n",
            " [-0.82537729 -0.48997675]\n",
            " [-0.89790711 -0.36108551]\n",
            " [ 0.04498048 -0.05486212]\n",
            " [-0.60778785 -0.47971729]\n",
            " [-0.17260896 -0.49961791]\n",
            " [ 0.77027863 -0.45333739]\n",
            " [ 0.77027863 -0.38808186]\n",
            " [-0.39019841 -0.28163667]\n",
            " [-0.31766859  0.14098222]\n",
            " [-0.31766859 -0.29922326]\n",
            " [ 1.49557677 -0.43436238]\n",
            " [-1.47814562 -0.04977127]\n",
            " [-0.60778785 -0.48442309]\n",
            " [-1.98585433 -0.43505659]\n",
            " [-1.98585433  0.10596268]\n",
            " [-2.07651659 -0.27222691]\n",
            " [-0.31766859 -0.48203131]\n",
            " [-0.75284748 -0.25911286]\n",
            " [-1.8407947  -0.11224997]\n",
            " [-0.53525803 -0.46213069]\n",
            " [ 1.42304696  0.42514461]\n",
            " [ 0.55268918 -0.45125477]\n",
            " [ 0.1175103   2.42330601]\n",
            " [ 0.84280844 -0.26775251]\n",
            " [-0.02754933 -0.48480814]\n",
            " [ 1.49557677 -0.14742316]\n",
            " [ 0.04498048 -0.18444758]\n",
            " [ 0.19004011 -0.48203131]\n",
            " [-0.82537729  0.65878348]\n",
            " [ 1.78569603 -0.20295978]\n",
            " [-0.97043692  0.00761658]\n",
            " [ 0.77027863 -0.11224997]\n",
            " [-0.46272822 -0.48257187]\n",
            " [-0.10007915 -0.48203131]\n",
            " [-0.17260896 -0.48203131]\n",
            " [ 0.04498048 -0.62874056]\n",
            " [ 0.40762956 -0.49498986]\n",
            " [ 1.6406364  -0.38808186]\n",
            " [ 0.625219    0.69087069]\n",
            " [-0.10007915 -0.36216477]\n",
            " [ 0.19004011 -0.34180134]\n",
            " [-0.82537729 -0.49452705]\n",
            " [ 0.19004011  0.41712142]\n",
            " [-0.82537729 -0.48480814]\n",
            " [-1.47814562 -0.04768864]\n",
            " [-1.47814562 -0.11224997]\n",
            " [-0.53525803 -0.48527095]\n",
            " [ 0.04498048 -0.49452705]\n",
            " [ 0.625219    0.83742628]\n",
            " [-1.98585433 -0.40127181]\n",
            " [ 0.55268918 -0.07892799]\n",
            " [ 1.35051714  0.10434286]\n",
            " [ 1.35051714 -0.48334198]\n",
            " [ 2.14834511 -0.37882576]\n",
            " [ 2.87364325 -0.36031355]\n",
            " [-0.89790711 -0.46837856]\n",
            " [ 0.77027863 -0.49498986]\n",
            " [ 0.26256993  0.35425766]\n",
            " [-0.46272822  1.46822975]\n",
            " [ 0.69774881 -0.49452705]\n",
            " [ 0.04498048 -0.11556736]\n",
            " [ 0.77027863 -0.48257187]\n",
            " [ 1.20545752  0.02844281]\n",
            " [-0.68031766 -0.34180134]\n",
            " [-0.60778785 -0.48203131]\n",
            " [ 1.6406364   1.10215085]\n",
            " [-0.60778785 -0.48527095]\n",
            " [ 1.16919261 -0.49498986]\n",
            " [ 0.98786807 -0.14279511]\n",
            " [ 0.04498048 -0.38808186]\n",
            " [-1.11549655 -0.42063187]\n",
            " [-0.89790711 -0.49491211]\n",
            " [-1.98585433 -0.14742316]\n",
            " [ 0.1175103  -0.29552082]\n",
            " [-0.39019841 -0.19833173]\n",
            " [ 0.04498048 -0.47971729]\n",
            " [-0.82537729 -0.34180134]\n",
            " [-0.60778785 -0.48897339]\n",
            " [-0.60778785 -0.48434534]\n",
            " [ 0.91533826 -0.38808186]\n",
            " [-1.55067544 -0.14279511]\n",
            " [ 1.93075566  0.02844281]\n",
            " [ 0.22630502 -0.38808186]\n",
            " [ 0.48015937  0.11406177]\n",
            " [ 2.22087492 -0.14881158]\n",
            " [-0.46272822 -0.38808186]\n",
            " [-0.10007915 -0.39456113]\n",
            " [ 0.26256993 -0.48527095]\n",
            " [-1.8407947  -0.31958669]\n",
            " [-0.60778785 -0.48712217]\n",
            " [-0.24513878 -0.46837856]]\n"
          ]
        }
      ]
    },
    {
      "cell_type": "markdown",
      "metadata": {
        "id": "bb6jCOCQiAmP"
      },
      "source": [
        "## Training the Naive Bayes model on the Training set"
      ]
    },
    {
      "cell_type": "code",
      "metadata": {
        "id": "e0pFVAmciHQs",
        "colab": {
          "base_uri": "https://localhost:8080/",
          "height": 75
        },
        "outputId": "c9130cf9-f13e-45ae-8922-0e9065deab6c"
      },
      "source": [
        "from sklearn.naive_bayes import GaussianNB\n",
        "classifier = GaussianNB()\n",
        "classifier.fit(X_train, y_train)"
      ],
      "execution_count": 11,
      "outputs": [
        {
          "output_type": "execute_result",
          "data": {
            "text/plain": [
              "GaussianNB()"
            ],
            "text/html": [
              "<style>#sk-container-id-1 {color: black;background-color: white;}#sk-container-id-1 pre{padding: 0;}#sk-container-id-1 div.sk-toggleable {background-color: white;}#sk-container-id-1 label.sk-toggleable__label {cursor: pointer;display: block;width: 100%;margin-bottom: 0;padding: 0.3em;box-sizing: border-box;text-align: center;}#sk-container-id-1 label.sk-toggleable__label-arrow:before {content: \"▸\";float: left;margin-right: 0.25em;color: #696969;}#sk-container-id-1 label.sk-toggleable__label-arrow:hover:before {color: black;}#sk-container-id-1 div.sk-estimator:hover label.sk-toggleable__label-arrow:before {color: black;}#sk-container-id-1 div.sk-toggleable__content {max-height: 0;max-width: 0;overflow: hidden;text-align: left;background-color: #f0f8ff;}#sk-container-id-1 div.sk-toggleable__content pre {margin: 0.2em;color: black;border-radius: 0.25em;background-color: #f0f8ff;}#sk-container-id-1 input.sk-toggleable__control:checked~div.sk-toggleable__content {max-height: 200px;max-width: 100%;overflow: auto;}#sk-container-id-1 input.sk-toggleable__control:checked~label.sk-toggleable__label-arrow:before {content: \"▾\";}#sk-container-id-1 div.sk-estimator input.sk-toggleable__control:checked~label.sk-toggleable__label {background-color: #d4ebff;}#sk-container-id-1 div.sk-label input.sk-toggleable__control:checked~label.sk-toggleable__label {background-color: #d4ebff;}#sk-container-id-1 input.sk-hidden--visually {border: 0;clip: rect(1px 1px 1px 1px);clip: rect(1px, 1px, 1px, 1px);height: 1px;margin: -1px;overflow: hidden;padding: 0;position: absolute;width: 1px;}#sk-container-id-1 div.sk-estimator {font-family: monospace;background-color: #f0f8ff;border: 1px dotted black;border-radius: 0.25em;box-sizing: border-box;margin-bottom: 0.5em;}#sk-container-id-1 div.sk-estimator:hover {background-color: #d4ebff;}#sk-container-id-1 div.sk-parallel-item::after {content: \"\";width: 100%;border-bottom: 1px solid gray;flex-grow: 1;}#sk-container-id-1 div.sk-label:hover label.sk-toggleable__label {background-color: #d4ebff;}#sk-container-id-1 div.sk-serial::before {content: \"\";position: absolute;border-left: 1px solid gray;box-sizing: border-box;top: 0;bottom: 0;left: 50%;z-index: 0;}#sk-container-id-1 div.sk-serial {display: flex;flex-direction: column;align-items: center;background-color: white;padding-right: 0.2em;padding-left: 0.2em;position: relative;}#sk-container-id-1 div.sk-item {position: relative;z-index: 1;}#sk-container-id-1 div.sk-parallel {display: flex;align-items: stretch;justify-content: center;background-color: white;position: relative;}#sk-container-id-1 div.sk-item::before, #sk-container-id-1 div.sk-parallel-item::before {content: \"\";position: absolute;border-left: 1px solid gray;box-sizing: border-box;top: 0;bottom: 0;left: 50%;z-index: -1;}#sk-container-id-1 div.sk-parallel-item {display: flex;flex-direction: column;z-index: 1;position: relative;background-color: white;}#sk-container-id-1 div.sk-parallel-item:first-child::after {align-self: flex-end;width: 50%;}#sk-container-id-1 div.sk-parallel-item:last-child::after {align-self: flex-start;width: 50%;}#sk-container-id-1 div.sk-parallel-item:only-child::after {width: 0;}#sk-container-id-1 div.sk-dashed-wrapped {border: 1px dashed gray;margin: 0 0.4em 0.5em 0.4em;box-sizing: border-box;padding-bottom: 0.4em;background-color: white;}#sk-container-id-1 div.sk-label label {font-family: monospace;font-weight: bold;display: inline-block;line-height: 1.2em;}#sk-container-id-1 div.sk-label-container {text-align: center;}#sk-container-id-1 div.sk-container {/* jupyter's `normalize.less` sets `[hidden] { display: none; }` but bootstrap.min.css set `[hidden] { display: none !important; }` so we also need the `!important` here to be able to override the default hidden behavior on the sphinx rendered scikit-learn.org. See: https://github.com/scikit-learn/scikit-learn/issues/21755 */display: inline-block !important;position: relative;}#sk-container-id-1 div.sk-text-repr-fallback {display: none;}</style><div id=\"sk-container-id-1\" class=\"sk-top-container\"><div class=\"sk-text-repr-fallback\"><pre>GaussianNB()</pre><b>In a Jupyter environment, please rerun this cell to show the HTML representation or trust the notebook. <br />On GitHub, the HTML representation is unable to render, please try loading this page with nbviewer.org.</b></div><div class=\"sk-container\" hidden><div class=\"sk-item\"><div class=\"sk-estimator sk-toggleable\"><input class=\"sk-toggleable__control sk-hidden--visually\" id=\"sk-estimator-id-1\" type=\"checkbox\" checked><label for=\"sk-estimator-id-1\" class=\"sk-toggleable__label sk-toggleable__label-arrow\">GaussianNB</label><div class=\"sk-toggleable__content\"><pre>GaussianNB()</pre></div></div></div></div></div>"
            ]
          },
          "metadata": {},
          "execution_count": 11
        }
      ]
    },
    {
      "cell_type": "markdown",
      "metadata": {
        "id": "yyxW5b395mR2"
      },
      "source": [
        "## Predicting a new result"
      ]
    },
    {
      "cell_type": "code",
      "metadata": {
        "id": "f8YOXsQy58rP",
        "outputId": "20e70762-9128-4bff-c67e-7897e6e919b3",
        "colab": {
          "base_uri": "https://localhost:8080/"
        }
      },
      "source": [
        "print(classifier.predict(sc.transform([[30,87000]])))"
      ],
      "execution_count": 12,
      "outputs": [
        {
          "output_type": "stream",
          "name": "stdout",
          "text": [
            "[1]\n"
          ]
        }
      ]
    },
    {
      "cell_type": "markdown",
      "metadata": {
        "id": "vKYVQH-l5NpE"
      },
      "source": [
        "## Predicting the Test set results"
      ]
    },
    {
      "cell_type": "code",
      "metadata": {
        "id": "p6VMTb2O4hwM",
        "outputId": "53f74c11-a59f-481e-80bb-68ac85333d35",
        "colab": {
          "base_uri": "https://localhost:8080/"
        }
      },
      "source": [
        "y_pred = classifier.predict(X_test)\n",
        "print(np.concatenate((y_pred.reshape(len(y_pred),1), y_test.reshape(len(y_test),1)),1))"
      ],
      "execution_count": 13,
      "outputs": [
        {
          "output_type": "stream",
          "name": "stdout",
          "text": [
            "[[0 0]\n",
            " [1 0]\n",
            " [0 0]\n",
            " [0 1]\n",
            " [0 0]\n",
            " [0 0]\n",
            " [0 1]\n",
            " [0 1]\n",
            " [0 0]\n",
            " [0 0]\n",
            " [0 0]\n",
            " [1 1]\n",
            " [0 0]\n",
            " [0 0]\n",
            " [0 0]\n",
            " [0 0]\n",
            " [0 1]\n",
            " [0 1]\n",
            " [0 0]\n",
            " [0 1]\n",
            " [0 0]\n",
            " [0 0]\n",
            " [0 0]\n",
            " [1 1]\n",
            " [0 1]\n",
            " [1 1]\n",
            " [0 0]\n",
            " [0 1]\n",
            " [0 0]\n",
            " [0 0]\n",
            " [0 1]\n",
            " [0 1]\n",
            " [0 1]\n",
            " [0 1]\n",
            " [0 0]\n",
            " [0 1]\n",
            " [0 0]\n",
            " [0 1]\n",
            " [0 1]\n",
            " [0 0]\n",
            " [0 0]\n",
            " [0 0]\n",
            " [0 0]\n",
            " [0 0]\n",
            " [0 0]\n",
            " [0 0]\n",
            " [0 1]\n",
            " [0 0]\n",
            " [0 0]\n",
            " [0 0]\n",
            " [0 0]\n",
            " [0 0]\n",
            " [0 0]\n",
            " [0 0]\n",
            " [0 0]\n",
            " [0 0]\n",
            " [0 1]\n",
            " [0 0]\n",
            " [0 1]\n",
            " [0 0]\n",
            " [0 1]\n",
            " [0 0]\n",
            " [0 0]\n",
            " [0 0]\n",
            " [0 0]\n",
            " [0 1]\n",
            " [0 0]\n",
            " [0 1]\n",
            " [0 0]\n",
            " [0 1]\n",
            " [1 0]\n",
            " [0 0]\n",
            " [0 1]\n",
            " [0 1]\n",
            " [1 0]\n",
            " [0 0]\n",
            " [0 1]\n",
            " [0 0]\n",
            " [0 0]\n",
            " [0 0]\n",
            " [0 0]\n",
            " [0 0]\n",
            " [1 0]\n",
            " [1 1]\n",
            " [0 0]\n",
            " [1 0]\n",
            " [0 0]\n",
            " [0 0]\n",
            " [0 0]\n",
            " [1 0]\n",
            " [0 0]\n",
            " [0 1]\n",
            " [0 0]\n",
            " [0 1]\n",
            " [0 0]\n",
            " [0 0]\n",
            " [0 0]\n",
            " [0 0]\n",
            " [0 1]\n",
            " [0 0]\n",
            " [0 0]\n",
            " [0 1]\n",
            " [0 1]\n",
            " [0 1]\n",
            " [0 0]\n",
            " [0 0]\n",
            " [1 1]\n",
            " [0 1]\n",
            " [0 0]\n",
            " [1 1]\n",
            " [0 1]\n",
            " [0 0]\n",
            " [0 0]\n",
            " [0 1]\n",
            " [0 0]\n",
            " [0 0]\n",
            " [0 0]\n",
            " [0 1]\n",
            " [0 0]\n",
            " [0 0]\n",
            " [0 0]\n",
            " [0 0]\n",
            " [0 0]\n",
            " [0 1]\n",
            " [0 0]\n",
            " [0 0]\n",
            " [0 1]\n",
            " [0 0]\n",
            " [1 1]\n",
            " [0 0]\n",
            " [0 0]\n",
            " [0 1]\n",
            " [0 0]\n",
            " [0 1]\n",
            " [0 0]\n",
            " [0 1]\n",
            " [0 0]\n",
            " [0 1]\n",
            " [0 1]\n",
            " [0 0]\n",
            " [0 0]\n",
            " [0 1]\n",
            " [0 0]\n",
            " [0 1]\n",
            " [0 0]\n",
            " [0 0]\n",
            " [0 1]\n",
            " [0 0]\n",
            " [0 0]\n",
            " [0 0]\n",
            " [0 0]\n",
            " [0 1]\n",
            " [0 0]\n",
            " [1 1]\n",
            " [0 1]\n",
            " [0 0]\n",
            " [0 1]\n",
            " [0 0]\n",
            " [0 0]\n",
            " [0 0]\n",
            " [0 1]\n",
            " [0 0]\n",
            " [0 0]\n",
            " [0 0]\n",
            " [0 0]\n",
            " [0 1]\n",
            " [0 0]\n",
            " [0 0]\n",
            " [0 0]\n",
            " [0 1]\n",
            " [0 0]\n",
            " [0 0]\n",
            " [0 0]\n",
            " [0 1]\n",
            " [0 0]\n",
            " [0 0]\n",
            " [0 0]\n",
            " [0 1]\n",
            " [0 0]\n",
            " [1 1]\n",
            " [0 1]\n",
            " [0 0]\n",
            " [0 1]\n",
            " [0 0]\n",
            " [0 0]\n",
            " [0 0]\n",
            " [0 0]\n",
            " [0 0]\n",
            " [0 1]\n",
            " [1 1]\n",
            " [0 0]\n",
            " [0 0]\n",
            " [0 0]\n",
            " [0 1]\n",
            " [0 0]\n",
            " [0 0]\n",
            " [1 1]\n",
            " [0 0]\n",
            " [0 0]\n",
            " [0 0]\n",
            " [0 0]\n",
            " [0 1]\n",
            " [0 0]\n",
            " [0 1]\n",
            " [0 0]\n",
            " [0 1]\n",
            " [0 0]\n",
            " [0 1]\n",
            " [0 0]\n",
            " [0 0]\n",
            " [0 1]\n",
            " [0 1]\n",
            " [0 1]\n",
            " [0 1]\n",
            " [0 0]\n",
            " [0 0]\n",
            " [0 0]\n",
            " [0 1]\n",
            " [0 1]\n",
            " [0 1]\n",
            " [0 1]\n",
            " [0 0]]\n"
          ]
        }
      ]
    },
    {
      "cell_type": "markdown",
      "metadata": {
        "id": "h4Hwj34ziWQW"
      },
      "source": [
        "## Making the Confusion Matrix"
      ]
    },
    {
      "cell_type": "code",
      "metadata": {
        "id": "D6bpZwUiiXic",
        "outputId": "d48aeb88-b467-4749-e739-a40d61fa56b9",
        "colab": {
          "base_uri": "https://localhost:8080/"
        }
      },
      "source": [
        "from sklearn.metrics import confusion_matrix, accuracy_score\n",
        "cm = confusion_matrix(y_test, y_pred)\n",
        "print(cm)\n",
        "accuracy_score(y_test, y_pred)"
      ],
      "execution_count": 14,
      "outputs": [
        {
          "output_type": "stream",
          "name": "stdout",
          "text": [
            "[[136   6]\n",
            " [ 69  11]]\n"
          ]
        },
        {
          "output_type": "execute_result",
          "data": {
            "text/plain": [
              "0.6621621621621622"
            ]
          },
          "metadata": {},
          "execution_count": 14
        }
      ]
    },
    {
      "cell_type": "markdown",
      "metadata": {
        "id": "6OMC_P0diaoD"
      },
      "source": [
        "## Visualising the Training set results"
      ]
    },
    {
      "cell_type": "code",
      "metadata": {
        "id": "_NOjKvZRid5l",
        "outputId": "08b65d1b-28a4-4acc-c59a-1e0d61ab338f",
        "colab": {
          "base_uri": "https://localhost:8080/",
          "height": 527
        }
      },
      "source": [
        "from matplotlib.colors import ListedColormap\n",
        "X_set, y_set = sc.inverse_transform(X_train), y_train\n",
        "X1, X2 = np.meshgrid(np.arange(start = X_set[:, 0].min() - 10, stop = X_set[:, 0].max() + 10, step = 0.25),\n",
        "                     np.arange(start = X_set[:, 1].min() - 1000, stop = X_set[:, 1].max() + 1000, step = 0.25))\n",
        "plt.contourf(X1, X2, classifier.predict(sc.transform(np.array([X1.ravel(), X2.ravel()]).T)).reshape(X1.shape),\n",
        "             alpha = 0.75, cmap = ListedColormap(('blue', 'orange')))\n",
        "plt.xlim(X1.min(), X1.max())\n",
        "plt.ylim(X2.min(), X2.max())\n",
        "for i, j in enumerate(np.unique(y_set)):\n",
        "    plt.scatter(X_set[y_set == j, 0], X_set[y_set == j, 1], c = ListedColormap(('blue', 'orange'))(i), label = j)\n",
        "plt.title('Naive Bayes (Training set)')\n",
        "plt.xlabel('Age')\n",
        "plt.ylabel('Estimated Fares')\n",
        "plt.legend()\n",
        "plt.show()"
      ],
      "execution_count": 15,
      "outputs": [
        {
          "output_type": "stream",
          "name": "stderr",
          "text": [
            "<ipython-input-15-a9df654dd39d>:10: UserWarning: *c* argument looks like a single numeric RGB or RGBA sequence, which should be avoided as value-mapping will have precedence in case its length matches with *x* & *y*.  Please use the *color* keyword-argument or provide a 2D array with a single row if you intend to specify the same RGB or RGBA value for all points.\n",
            "  plt.scatter(X_set[y_set == j, 0], X_set[y_set == j, 1], c = ListedColormap(('blue', 'orange'))(i), label = j)\n"
          ]
        },
        {
          "output_type": "display_data",
          "data": {
            "text/plain": [
              "<Figure size 640x480 with 1 Axes>"
            ],
            "image/png": "[encoded data removed]"
          },
          "metadata": {}
        }
      ]
    },
    {
      "cell_type": "markdown",
      "metadata": {
        "id": "SZ-j28aPihZx"
      },
      "source": [
        "## Visualising the Test set results"
      ]
    },
    {
      "cell_type": "code",
      "metadata": {
        "id": "qeTjz2vDilAC",
        "outputId": "43d01681-6177-4637-9bbf-7c99d573f531",
        "colab": {
          "base_uri": "https://localhost:8080/",
          "height": 527
        }
      },
      "source": [
        "from matplotlib.colors import ListedColormap\n",
        "X_set, y_set = sc.inverse_transform(X_test), y_test\n",
        "X1, X2 = np.meshgrid(np.arange(start = X_set[:, 0].min() - 10, stop = X_set[:, 0].max() + 10, step = 0.25),\n",
        "                     np.arange(start = X_set[:, 1].min() - 1000, stop = X_set[:, 1].max() + 1000, step = 0.25))\n",
        "plt.contourf(X1, X2, classifier.predict(sc.transform(np.array([X1.ravel(), X2.ravel()]).T)).reshape(X1.shape),\n",
        "             alpha = 0.75, cmap = ListedColormap(('blue', 'orange')))\n",
        "plt.xlim(X1.min(), X1.max())\n",
        "plt.ylim(X2.min(), X2.max())\n",
        "for i, j in enumerate(np.unique(y_set)):\n",
        "    plt.scatter(X_set[y_set == j, 0], X_set[y_set == j, 1], c = ListedColormap(('blue', 'orange'))(i), label = j)\n",
        "plt.title('Naive Bayes (Test set)')\n",
        "plt.xlabel('Age')\n",
        "plt.ylabel('Estimated Fares')\n",
        "plt.legend()\n",
        "plt.show()"
      ],
      "execution_count": 16,
      "outputs": [
        {
          "output_type": "stream",
          "name": "stderr",
          "text": [
            "<ipython-input-16-629a767f3860>:10: UserWarning: *c* argument looks like a single numeric RGB or RGBA sequence, which should be avoided as value-mapping will have precedence in case its length matches with *x* & *y*.  Please use the *color* keyword-argument or provide a 2D array with a single row if you intend to specify the same RGB or RGBA value for all points.\n",
            "  plt.scatter(X_set[y_set == j, 0], X_set[y_set == j, 1], c = ListedColormap(('blue', 'orange'))(i), label = j)\n"
          ]
        },
        {
          "output_type": "display_data",
          "data": {
            "text/plain": [
              "<Figure size 640x480 with 1 Axes>"
            ],
            "image/png": "[encoded data removed]"
          },
          "metadata": {}
        }
      ]
    }
  ]
}